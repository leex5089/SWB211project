{
 "cells": [
  {
   "cell_type": "markdown",
   "metadata": {},
   "source": [
    "#  SWB211 Project \n",
    "\n",
    "## Joint Density Calculation\n",
    "\n"
   ]
  },
  {
   "cell_type": "markdown",
   "metadata": {},
   "source": [
    "### Setting"
   ]
  },
  {
   "cell_type": "code",
   "execution_count": 151,
   "metadata": {},
   "outputs": [
    {
     "name": "stdout",
     "output_type": "stream",
     "text": [
      "G:\\My Drive\\0.SWB\\SWB211\n"
     ]
    }
   ],
   "source": [
    "import pandas as pd ## import pandas module for data manipulation, just 2017 and 2018 test data for this exercise.\n",
    "import os\n",
    "os.chdir(r\"G:\\My Drive\\0.SWB\\SWB211\")  # Provide the new path here\n",
    "print(os.getcwd()) # Prints the current working directory\n",
    " "
   ]
  },
  {
   "cell_type": "markdown",
   "metadata": {},
   "source": [
    "### prepare block-level data"
   ]
  },
  {
   "cell_type": "code",
   "execution_count": 152,
   "metadata": {},
   "outputs": [],
   "source": [
    "\n",
    "block_raw = pd.read_csv(r\"census_data\\nhgis0202_csv\\nhgis0202_ds248_2020_block.csv\") #insert the path directory of the file you want to import \n",
    "block_raw.columns = block_raw.columns.str.lower()\n",
    "\n",
    "block_data=block_raw[['gisjoin', 'state','county','u7b001']]\n",
    "block_data = block_data.rename(columns={'gisjoin': 'b_gisjoin'})                \n",
    "block_data = block_data.rename(columns={'u7b001': 'b_population'}) # b_target_pop: Block level count of total population.                \n",
    "                     "
   ]
  },
  {
   "cell_type": "markdown",
   "metadata": {},
   "source": [
    "### prepare block-group-level data (education, Income data)"
   ]
  },
  {
   "cell_type": "code",
   "execution_count": 153,
   "metadata": {},
   "outputs": [],
   "source": [
    "\n",
    "blockgroup_raw = pd.read_csv(r\"census_data\\nhgis0197_csv\\nhgis0197_ds254_20215_blck_grp.csv\") #insert the path directory of the file you want to import \n",
    "blockgroup_raw.columns = blockgroup_raw.columns.str.lower()\n",
    "col_list=blockgroup_raw[['aop8e002', 'aop8e003', 'aop8e004', 'aop8e005', 'aop8e006', 'aop8e007', 'aop8e008' ,'aop8e009', 'aop8e010', 'aop8e011', 'aop8e012', 'aop8e013', 'aop8e014', 'aop8e015', 'aop8e016', 'aop8e017', 'aop8e018', 'aop8e019', 'aop8e020', 'aop8e021']]\n",
    "blockgroup_raw['bg_educ_lt_bachelars']=col_list.sum(axis=1)\n",
    "col_list=blockgroup_raw[['aoqhe002', 'aoqhe003', 'aoqhe004', 'aoqhe005', 'aoqhe006', 'aoqhe007', 'aoqhe008', 'aoqhe009']]\n",
    "blockgroup_raw['bg_inc_lt_45000']=col_list.sum(axis=1)\n",
    "\n",
    "blockgroup_raw['s_bg_educ_lt_bachelars']=blockgroup_raw['bg_educ_lt_bachelars']/blockgroup_raw['aop8e001']\n",
    "blockgroup_raw['s_bg_inc_lt_45000']=blockgroup_raw['bg_inc_lt_45000']/blockgroup_raw['aoqhe001']\n",
    "blockgroup_raw = blockgroup_raw.rename(columns={'gisjoin': 'bg_gisjoin'})                \n",
    "bg_educ_inc=blockgroup_raw[['bg_gisjoin', 'bg_educ_lt_bachelars','bg_inc_lt_45000','s_bg_educ_lt_bachelars','s_bg_inc_lt_45000']]\n"
   ]
  },
  {
   "cell_type": "markdown",
   "metadata": {},
   "source": [
    "### prepare block-group-level data (age data)"
   ]
  },
  {
   "cell_type": "code",
   "execution_count": 154,
   "metadata": {},
   "outputs": [
    {
     "name": "stdout",
     "output_type": "stream",
     "text": [
      "<class 'pandas.core.frame.DataFrame'>\n",
      "RangeIndex: 7492 entries, 0 to 7491\n",
      "Columns: 1001 entries, gisjoin to aoslm036\n",
      "dtypes: float64(76), int64(917), object(8)\n",
      "memory usage: 57.2+ MB\n",
      "None\n"
     ]
    }
   ],
   "source": [
    "blockgroup_raw = pd.read_csv(r\"census_data\\nhgis0203_csv\\nhgis0203_ds254_20215_blck_grp.csv\") #insert the path directory of the file you want to import \n",
    "blockgroup_raw.columns = blockgroup_raw.columns.str.lower()\n",
    "blockgroup_raw.describe()\n",
    "print(blockgroup_raw.info())\n",
    "blockgroup_raw.describe()\n",
    "blockgroup_raw.dtypes \n",
    "col_list=blockgroup_raw[['aonte007', 'aonte008', 'aonte009', 'aonte010', 'aonte011', 'aonte012', 'aonte013', 'aonte014', 'aonte015', 'aonte016' ,'aonte017', 'aonte018', 'aonte019' ,'aonte020', 'aonte021', 'aonte022', 'aonte023' ,'aonte024' ,'aonte025' ,'aonte031' ,'aonte032', 'aonte033', 'aonte034' ,'aonte035', 'aonte036', 'aonte037', 'aonte038', 'aonte039', 'aonte040', 'aonte041', 'aonte042', 'aonte043', 'aonte044', 'aonte045', 'aonte046', 'aonte047', 'aonte048', 'aonte049']]\n",
    "blockgroup_raw['bg_age_gt18']=col_list.sum(axis=1)\n",
    "blockgroup_raw['s_bg_age_gt18']=blockgroup_raw['bg_age_gt18']/blockgroup_raw['aonte001']\n",
    "blockgroup_raw = blockgroup_raw.rename(columns={'gisjoin': 'bg_gisjoin'})                \n",
    "bg_age=blockgroup_raw[['bg_gisjoin', 'bg_age_gt18','s_bg_age_gt18' ]]\n",
    "\n"
   ]
  },
  {
   "cell_type": "markdown",
   "metadata": {},
   "source": [
    "### prepare cross-walk data "
   ]
  },
  {
   "cell_type": "code",
   "execution_count": 155,
   "metadata": {},
   "outputs": [],
   "source": [
    "##b_KC_6counties\n",
    "b_KC_6counties = pd.read_stata(r\"intermediate_data\\b_KC_6counties.dta\") #// merge to restrict area to 6 counties in KC\n",
    "b_KC_6counties.columns = b_KC_6counties.columns.str.lower()\n",
    "##JOIN\n",
    "b_bg_county_crosswalk = pd.read_stata(r\"intermediate_data\\b_bg_county_crosswalk.dta\") # block block-group county crosswalk file   \n",
    "b_bg_county_crosswalk.columns = b_bg_county_crosswalk.columns.str.lower()\n"
   ]
  },
  {
   "cell_type": "markdown",
   "metadata": {},
   "source": [
    "### Merge block and block-group data to calculate joint density of target pop"
   ]
  },
  {
   "cell_type": "code",
   "execution_count": 156,
   "metadata": {},
   "outputs": [],
   "source": [
    "#merge B and BG level data, calculate target_density \n",
    "merge1=pd.merge(block_data, b_KC_6counties,on=['b_gisjoin' ])  # merge to restrict area to 6 counties in KC (426161 to 37701)\n",
    "merge2=pd.merge(merge1, b_bg_county_crosswalk,on=['b_gisjoin' ])  # block block-group county crosswalk file\n",
    "merge3=pd.merge(merge2, bg_age,on=['bg_gisjoin' ])  # add bg-level age\n",
    "merge4=pd.merge(merge3, bg_educ_inc,on=['bg_gisjoin' ])  # add bg-level bg_educ_inc\n",
    "\n",
    "\n",
    "merge4['s_joint_age_educ_inc']=merge4['s_bg_age_gt18']*merge4['s_bg_educ_lt_bachelars']*merge4['s_bg_inc_lt_45000'] # joint probability age*educ*income of target population.\n",
    "merge4['b_target_pop']=merge4['b_population']*merge4['s_joint_age_educ_inc']  # block-level count of target population.\n",
    "merge4['total_target_pop']=merge4['b_population'].sum()  # block-level count of target population.\n",
    "merge4 = merge4.fillna(0)\n",
    "\n",
    "merge4['target_density']=merge4['b_target_pop']//merge4['total_target_pop']\n",
    "merge4['target_pop_per_sq_mile']=merge4['b_target_pop']// merge4['shape_area_x'] //2589973.632302 \n",
    " \n"
   ]
  },
  {
   "cell_type": "code",
   "execution_count": 157,
   "metadata": {},
   "outputs": [
    {
     "name": "stdout",
     "output_type": "stream",
     "text": [
      "<class 'pandas.core.frame.DataFrame'>\n",
      "Int64Index: 37701 entries, 0 to 37700\n",
      "Columns: 111 entries, b_gisjoin to target_pop_per_sq_mile\n",
      "dtypes: float32(12), float64(7), int16(7), int32(16), int64(5), int8(3), object(61)\n",
      "memory usage: 25.9+ MB\n"
     ]
    }
   ],
   "source": [
    "merge4.info()"
   ]
  },
  {
   "cell_type": "markdown",
   "metadata": {},
   "source": [
    "### save final output file"
   ]
  },
  {
   "cell_type": "code",
   "execution_count": 158,
   "metadata": {},
   "outputs": [],
   "source": [
    "final_block_data=merge4[[  'fid', 'county' ,'bg_gisjoin' ,'b_gisjoin' ,'b_population', 'bg_age_gt18', 'bg_educ_lt_bachelars', 'bg_inc_lt_45000','s_bg_age_gt18', 's_bg_educ_lt_bachelars', 's_bg_inc_lt_45000', 's_joint_age_educ_inc' ,'b_target_pop', 'target_pop_per_sq_mile', 'target_density']]\n",
    "final_block_data.to_excel(\"intermediate_data/block_level_target_population_outofpython.xlsx\",index=False)   ##export the final final_block_data file."
   ]
  },
  {
   "cell_type": "code",
   "execution_count": null,
   "metadata": {},
   "outputs": [],
   "source": []
  }
 ],
 "metadata": {
  "kernelspec": {
   "display_name": "Python 3",
   "language": "python",
   "name": "python3"
  },
  "language_info": {
   "codemirror_mode": {
    "name": "ipython",
    "version": 3
   },
   "file_extension": ".py",
   "mimetype": "text/x-python",
   "name": "python",
   "nbconvert_exporter": "python",
   "pygments_lexer": "ipython3",
   "version": "3.6.8"
  }
 },
 "nbformat": 4,
 "nbformat_minor": 2
}
